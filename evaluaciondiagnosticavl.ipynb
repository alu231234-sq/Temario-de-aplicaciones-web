{
  "nbformat": 4,
  "nbformat_minor": 0,
  "metadata": {
    "colab": {
      "provenance": [],
      "authorship_tag": "ABX9TyNbXq5HmwEtcIxeF+EZHUHe",
      "include_colab_link": true
    },
    "kernelspec": {
      "name": "python3",
      "display_name": "Python 3"
    },
    "language_info": {
      "name": "python"
    }
  },
  "cells": [
    {
      "cell_type": "markdown",
      "metadata": {
        "id": "view-in-github",
        "colab_type": "text"
      },
      "source": [
        "<a href=\"https://colab.research.google.com/github/alu231234-sq/Temario-de-aplicaciones-web/blob/main/evaluaciondiagnosticavl.ipynb\" target=\"_parent\"><img src=\"https://colab.research.google.com/assets/colab-badge.svg\" alt=\"Open In Colab\"/></a>"
      ]
    },
    {
      "cell_type": "markdown",
      "source": [
        "Página1.- Imprimir nombre, paterno y materno de Alumno con CSS"
      ],
      "metadata": {
        "id": "FlXGO6_A1lz8"
      }
    },
    {
      "cell_type": "code",
      "source": [
        "nombre = input (\"ingrese tu nombre:\")\n",
        "paterno = input (\"ingrese tu apellido paterno: \")\n",
        "materno = input (\"ingrese tu apellido materno:\")\n",
        "print (\"Nombre completo: \", nombre, paterno, materno )"
      ],
      "metadata": {
        "colab": {
          "base_uri": "https://localhost:8080/"
        },
        "id": "C4HgLPEg1nV5",
        "outputId": "81c7e8e2-a640-47f3-c810-ad8fb3ef4bbb"
      },
      "execution_count": 1,
      "outputs": [
        {
          "output_type": "stream",
          "name": "stdout",
          "text": [
            "ingrese tu nombre:veronica\n",
            "ingrese tu apellido paterno: villa\n",
            "ingrese tu apellido materno:juarez\n",
            "Nombre completo:  veronica villa juarez\n"
          ]
        }
      ]
    },
    {
      "cell_type": "markdown",
      "source": [
        "Página2.- Capturar 2 números decimales e imprimir Suma"
      ],
      "metadata": {
        "id": "pmwTu3mG2_FH"
      }
    },
    {
      "cell_type": "code",
      "source": [
        "num1 = float(input(\"ingrese el primer numero:\"))\n",
        "num2= float(input(\"ingrese el segundo numero: \"))\n",
        "suma = num1+num2\n",
        "print(\"la suma es: \", suma)"
      ],
      "metadata": {
        "id": "2rzXDF0b3DZi"
      },
      "execution_count": null,
      "outputs": []
    },
    {
      "cell_type": "markdown",
      "source": [
        "Página3.- Calcular el área de un círculo"
      ],
      "metadata": {
        "id": "qvEsiTx946Jg"
      }
    },
    {
      "cell_type": "code",
      "source": [
        "radio= float(input(\"ingresa el radio del circulo\"))\n",
        "area= radio*radio*3.1416\n",
        "print(\"el area del circulo es: \" ,area)"
      ],
      "metadata": {
        "id": "U-mWEBj-49wf"
      },
      "execution_count": null,
      "outputs": []
    },
    {
      "cell_type": "markdown",
      "source": [
        "Pagina4.- Ejemplo de código y ventana resultante de semestre pasado."
      ],
      "metadata": {
        "id": "ye7N5XaG5zFC"
      }
    },
    {
      "cell_type": "markdown",
      "source": [
        "String[] dias= {\"lunes\",\"martes\",\"miercoles\",\"jueves\",\"viernes\"}\n",
        "System.out.println(\"los dias de la semana son: \"+dias);"
      ],
      "metadata": {
        "id": "XD3073ph61bN"
      }
    }
  ]
}